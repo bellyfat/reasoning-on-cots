{
 "cells": [
  {
   "cell_type": "raw",
   "source": [
    "This notebook includes a demo for Mulit-Chain Reasoning (**MCR**), by running  a meta-reasoner after multiple decompositions (chains-of-thought).\n",
    "In order to run this demo you will need API keys for OpenAI (https://platform.openai.com/account/api-keys) and SerpAPI (https://serpapi.com/).\n",
    "\n",
    "Follow the steps below to setup, afterwards you will able to use the run_question method to ask questions."
   ],
   "metadata": {
    "collapsed": false,
    "pycharm": {
     "name": "#%% raw\n"
    }
   }
  },
  {
   "cell_type": "markdown",
   "source": [
    "# setup"
   ],
   "metadata": {
    "collapsed": false
   }
  },
  {
   "cell_type": "code",
   "execution_count": null,
   "outputs": [],
   "source": [
    "# clone\n",
    "!git clone https://github.com/oriyor/reasoning-on-cots.git"
   ],
   "metadata": {
    "collapsed": false,
    "pycharm": {
     "name": "#%%\n"
    }
   }
  },
  {
   "cell_type": "code",
   "execution_count": null,
   "outputs": [],
   "source": [
    "# setup\n",
    "!pip install -q -r /content/reasoning-on-cots/requirements.txt\n",
    "%cd reasoning-on-cots\n"
   ],
   "metadata": {
    "collapsed": false,
    "pycharm": {
     "name": "#%%\n"
    }
   }
  },
  {
   "cell_type": "code",
   "execution_count": null,
   "outputs": [],
   "source": [
    "import os\n",
    "open_ai_key = \"\"#@param {type:\"string\"}\n",
    "serp_api_key = \"\"#@param {type:\"string\"}\n",
    "os.environ[\"OPENAI_KEY\"] = open_ai_key\n",
    "os.environ[\"SERP_API_KEY\"] = serp_api_key\n"
   ],
   "metadata": {
    "collapsed": false,
    "pycharm": {
     "name": "#%%\n"
    }
   }
  },
  {
   "cell_type": "markdown",
   "source": [
    "# run"
   ],
   "metadata": {
    "collapsed": false,
    "pycharm": {
     "name": "#%% md\n"
    }
   }
  },
  {
   "cell_type": "code",
   "execution_count": null,
   "outputs": [],
   "source": [
    "from src.experiments.demo import run_question\n",
    "\n",
    "dataset = \"strategyqa\" #@param [\"strategyqa\", \"2wikihop\"]\n",
    "model = \"code-davinci-002\" #@param [\"code-davinci-002\", \"text-davinci-003\", \"text-davinci-002\"] {allow-input: true}\n",
    "question_text = \"Did Brad Peyton need to know about seismology?\" #@param {type:\"string\"}\n",
    "answer = \"yes\" #@param {type:\"string\"}\n",
    "num_decompositions = 3 #@param {type:\"slider\", min:1, max:5, step:1}\n",
    "\n",
    "run_question(question_text=question_text, dataset=dataset, answer=answer, model=model, num_decomps=num_decompositions)"
   ],
   "metadata": {
    "collapsed": false,
    "pycharm": {
     "name": "#%%\n"
    }
   }
  }
 ],
 "metadata": {
  "kernelspec": {
   "display_name": "Python 3",
   "language": "python",
   "name": "python3"
  },
  "language_info": {
   "codemirror_mode": {
    "name": "ipython",
    "version": 2
   },
   "file_extension": ".py",
   "mimetype": "text/x-python",
   "name": "python",
   "nbconvert_exporter": "python",
   "pygments_lexer": "ipython2",
   "version": "2.7.6"
  }
 },
 "nbformat": 4,
 "nbformat_minor": 0
}